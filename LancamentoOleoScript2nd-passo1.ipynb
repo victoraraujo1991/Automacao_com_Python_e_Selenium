{
 "cells": [
  {
   "cell_type": "code",
   "execution_count": 1,
   "id": "49f2e1ef",
   "metadata": {},
   "outputs": [],
   "source": [
    "### Importar bibliotecas necessárias ###\n",
    "from selenium import webdriver\n",
    "from selenium.webdriver.common.by import By\n",
    "from selenium.webdriver.common.keys import Keys\n",
    "from selenium.webdriver.support.ui import WebDriverWait\n",
    "from selenium.webdriver.support import expected_conditions as EC\n",
    "from selenium.webdriver.common.action_chains import ActionChains\n",
    "\n",
    "import time\n",
    "import pandas as pd\n",
    "import matplotlib.pyplot as plt\n",
    "import matplotlib.image as mpimg\n",
    "\n",
    "import pyautogui as pag"
   ]
  },
  {
   "cell_type": "code",
   "execution_count": 2,
   "id": "5776d5b9",
   "metadata": {},
   "outputs": [],
   "source": [
    "### Carregar a planilha que foi extraída do Excel com os números das notas\n",
    "planilhaDf = pd.read_excel('trocaoleo.xlsx')"
   ]
  },
  {
   "cell_type": "code",
   "execution_count": 8,
   "id": "10f60c23",
   "metadata": {},
   "outputs": [
    {
     "data": {
      "text/html": [
       "<div>\n",
       "<style scoped>\n",
       "    .dataframe tbody tr th:only-of-type {\n",
       "        vertical-align: middle;\n",
       "    }\n",
       "\n",
       "    .dataframe tbody tr th {\n",
       "        vertical-align: top;\n",
       "    }\n",
       "\n",
       "    .dataframe thead th {\n",
       "        text-align: right;\n",
       "    }\n",
       "</style>\n",
       "<table border=\"1\" class=\"dataframe\">\n",
       "  <thead>\n",
       "    <tr style=\"text-align: right;\">\n",
       "      <th></th>\n",
       "      <th>Maquina</th>\n",
       "      <th>Quantidade</th>\n",
       "      <th>Oleo</th>\n",
       "    </tr>\n",
       "  </thead>\n",
       "  <tbody>\n",
       "    <tr>\n",
       "      <th>0</th>\n",
       "      <td>159698</td>\n",
       "      <td>20</td>\n",
       "      <td>GC</td>\n",
       "    </tr>\n",
       "    <tr>\n",
       "      <th>1</th>\n",
       "      <td>159612</td>\n",
       "      <td>45</td>\n",
       "      <td>GC</td>\n",
       "    </tr>\n",
       "    <tr>\n",
       "      <th>2</th>\n",
       "      <td>159613</td>\n",
       "      <td>85</td>\n",
       "      <td>GC</td>\n",
       "    </tr>\n",
       "    <tr>\n",
       "      <th>3</th>\n",
       "      <td>159494</td>\n",
       "      <td>15</td>\n",
       "      <td>GC</td>\n",
       "    </tr>\n",
       "    <tr>\n",
       "      <th>4</th>\n",
       "      <td>159608</td>\n",
       "      <td>10</td>\n",
       "      <td>GC</td>\n",
       "    </tr>\n",
       "  </tbody>\n",
       "</table>\n",
       "</div>"
      ],
      "text/plain": [
       "   Maquina  Quantidade Oleo\n",
       "0   159698          20   GC\n",
       "1   159612          45   GC\n",
       "2   159613          85   GC\n",
       "3   159494          15   GC\n",
       "4   159608          10   GC"
      ]
     },
     "execution_count": 8,
     "metadata": {},
     "output_type": "execute_result"
    }
   ],
   "source": [
    "### Visualizar se a planilha carregou corretamente\n",
    "### Necessário visualizar as colunas Maquina, Oleo e Quantidade\n",
    "planilhaDf.head()"
   ]
  },
  {
   "cell_type": "code",
   "execution_count": 4,
   "id": "994164be",
   "metadata": {},
   "outputs": [],
   "source": [
    "### Processo de Login com SAP WebGUI ###\n",
    "\n",
    "## Abre janela para digitar usuário e senha\n",
    "usuario = pag.prompt('Digita seu usuário')\n",
    "senha = pag.prompt('Digita sua senha')\n",
    "\n",
    "## criar o navegador com o webdriver do Chrome\n",
    "navegador = webdriver.Chrome()\n",
    "\n",
    "## Link de acesso do WebGUI do SAP da ZF\n",
    "navegador.get(\"https://swdlp1.zf-world.com/sap/bc/gui/sap/its/webgui\")\n",
    "\n",
    "## Preencher as informações de Login e senha\n",
    "navegador.find_element(By.XPATH, '//*[@id=\"sap-user\"]').send_keys(usuario)\n",
    "navegador.find_element(By.XPATH, '//*[@id=\"sap-password\"]').send_keys(usuario)\n",
    "\n",
    "## Clicar no botão para realizar o LOGIN\n",
    "navegador.find_element(By.XPATH, '//*[@id=\"LOGON_BUTTON\"]').click()"
   ]
  },
  {
   "cell_type": "code",
   "execution_count": 5,
   "id": "ca6ff5d2",
   "metadata": {},
   "outputs": [],
   "source": [
    "time.sleep(10)\n",
    "navegador.switch_to.frame(\"ITSFRAME1\");\n",
    "navegador.find_element(By.XPATH, '//*[@title=\"Entrar código de transação\"]').send_keys(\"IW21\")\n",
    "navegador.find_element(By.XPATH, '//*[@title=\"Entrar código de transação\"]').send_keys(Keys.ENTER)"
   ]
  },
  {
   "cell_type": "code",
   "execution_count": 6,
   "id": "9be0958d",
   "metadata": {},
   "outputs": [],
   "source": [
    "pos = 0\n",
    "tamanhoPlaniha = len(planilhaDf)\n",
    "wait = WebDriverWait(navegador, 10)\n",
    "\n",
    "for i in planilhaDf.Maquina:\n",
    "    time.sleep(2)\n",
    "    ## Aguardar a tela carregar e digitar a categoria de ordem M3 e pressionar ENTER\n",
    "    fastrack = WebDriverWait(navegador, 10).until(EC.visibility_of_element_located((By.XPATH, '//*[@id=\"M0:46:::2:22\"]')))\n",
    "    fastrack.send_keys(\"M3\")\n",
    "    time.sleep(1)\n",
    "    navegador.find_element(By.XPATH, '//*[@id=\"M0:46:::2:22\"]').send_keys(Keys.ENTER)\n",
    "    \n",
    "    ## Aguarda carregar a tela e digita todas as informações necessárias\n",
    "    textoNota = \"Abastecimento de Oleo \" + str(planilhaDf.Oleo[pos])\n",
    "    fastrack2 = WebDriverWait(navegador, 10).until(EC.visibility_of_element_located((By.XPATH, '//*[@title=\"Texto breve\"]')))\n",
    "    fastrack2.send_keys(textoNota)\n",
    "    navegador.find_element(By.XPATH, '//*[@title=\"Nº equipamento\"]').send_keys(str(planilhaDf.Maquina[pos]))\n",
    "    navegador.find_element(By.XPATH, '//*[@title=\"Nome do autor da nota\"]').send_keys(\"VICTOR\")\n",
    "    navegador.find_element(By.XPATH, '//*[@title=\"Nome do autor da nota\"]').send_keys(Keys.ENTER)\n",
    "    time.sleep(2)\n",
    "    navegador.find_element(By.XPATH, '//*[@title=\"Gravar (Ctrl+S)\"]').click()\n",
    "    pos = pos + 1\n",
    "    if pos > tamanhoPlaniha:\n",
    "        pag.alert(\"Finalizado abertura das notas!\")\n",
    "        break"
   ]
  }
 ],
 "metadata": {
  "kernelspec": {
   "display_name": "Python 3 (ipykernel)",
   "language": "python",
   "name": "python3"
  },
  "language_info": {
   "codemirror_mode": {
    "name": "ipython",
    "version": 3
   },
   "file_extension": ".py",
   "mimetype": "text/x-python",
   "name": "python",
   "nbconvert_exporter": "python",
   "pygments_lexer": "ipython3",
   "version": "3.9.7"
  }
 },
 "nbformat": 4,
 "nbformat_minor": 5
}
